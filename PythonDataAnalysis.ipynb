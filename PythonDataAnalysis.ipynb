{
  "nbformat": 4,
  "nbformat_minor": 0,
  "metadata": {
    "colab": {
      "provenance": []
    },
    "kernelspec": {
      "name": "python3",
      "display_name": "Python 3"
    },
    "language_info": {
      "name": "python"
    }
  },
  "cells": [
    {
      "cell_type": "code",
      "execution_count": null,
      "metadata": {
        "id": "r6c00hnzeKG9"
      },
      "outputs": [],
      "source": [
        "#RUN THIS FIRST\n",
        "\n",
        "#initialize notebook\n",
        "import pandas as pd\n",
        "import matplotlib as plt\n",
        "\n",
        "#download dataset\n",
        "!wget \"https://raw.githubusercontent.com/Pala-Dylan/STS-Python-for-Data-Analytics/main/TMDB.csv\""
      ]
    },
    {
      "cell_type": "markdown",
      "source": [
        "#1. Introduction to Data Analysis with Pandas"
      ],
      "metadata": {
        "id": "pdPPuxVnjpBl"
      }
    },
    {
      "cell_type": "markdown",
      "source": [
        "### Open and view a CSV in a dataframe"
      ],
      "metadata": {
        "id": "fmVLZJy6kMa-"
      }
    },
    {
      "cell_type": "code",
      "source": [
        "#open csv\n",
        "tmdb = pd.read_csv('TMDB.csv')\n",
        "#print \"head\" -- first 5 rows\n",
        "print(tmdb.head())\n",
        "# #print whole dataframe\n",
        "# print(tmdb)"
      ],
      "metadata": {
        "id": "M4SawCQrIq5i"
      },
      "execution_count": null,
      "outputs": []
    },
    {
      "cell_type": "markdown",
      "source": [
        "###"
      ],
      "metadata": {
        "id": "7Cl0sZ8OkfSC"
      }
    },
    {
      "cell_type": "code",
      "source": [
        "#select columns\n",
        "tmdb[\"name\"]\n"
      ],
      "metadata": {
        "id": "_jinDYAGkePw"
      },
      "execution_count": null,
      "outputs": []
    },
    {
      "cell_type": "code",
      "source": [
        "#select columns\n",
        "tmdb['vote_average']"
      ],
      "metadata": {
        "id": "2JjdPGbKoWl9"
      },
      "execution_count": null,
      "outputs": []
    },
    {
      "cell_type": "code",
      "source": [
        "#get summary statistics for a column\n",
        "tmdb['vote_average'].describe()"
      ],
      "metadata": {
        "id": "g5Fm6SbyoZvF"
      },
      "execution_count": null,
      "outputs": []
    },
    {
      "cell_type": "code",
      "source": [
        "#we can also get individual summary statistics\n",
        "vote_avg = tmdb['vote_average'] #can save df columns as variables\n",
        "vote_avg.mean()\n",
        "#vote_avg.count() #uncomment to run\n",
        "#vote_avg.std() #uncomment to run\n",
        "#vote_avg.min() #uncomment to run\n",
        "#vote_avg.max() #uncomment to run"
      ],
      "metadata": {
        "id": "vYHe7PTwopFa"
      },
      "execution_count": null,
      "outputs": []
    },
    {
      "cell_type": "code",
      "source": [
        "#We can also apply conditions to our column selection. Only rows that fulfill this condition will be returned\n",
        "\n",
        "#If we want all shows produced in Korea, we can do this:\n",
        "tmdb[\"origin_country\"] == \"KR\"\n",
        "\n",
        "#You might notice we only get a bunch of rows with \"True\" or \"False\".\n",
        "#This is a Boolean series--It only shows which rows satisfy the condition.\n"
      ],
      "metadata": {
        "id": "kUjmTqodsB-p"
      },
      "execution_count": null,
      "outputs": []
    },
    {
      "cell_type": "code",
      "source": [
        "#To do some more interesting analysis, let's grab the actual rows that satisfy our condition and save it to a variable\n",
        "Korean_shows = tmdb[tmdb[\"origin_country\"] == \"KR\"]\n",
        "#count of shows produced in Korea\n",
        "print(\"Number of shows produced in Korea: \" + str(len(Korean_shows)))\n",
        "Korean_shows.describe()"
      ],
      "metadata": {
        "id": "nj26_yTKt82n"
      },
      "execution_count": null,
      "outputs": []
    },
    {
      "cell_type": "markdown",
      "source": [
        "# Introduction to Data Visualization with Matplotlib"
      ],
      "metadata": {
        "id": "35HXX45xuh0p"
      }
    },
    {
      "cell_type": "markdown",
      "source": [
        "Let's make a bar chart analyzing the number of shows rate 8.0 or above by original language."
      ],
      "metadata": {
        "id": "grgfnkkewq5Q"
      }
    },
    {
      "cell_type": "code",
      "source": [
        "#x-axis: origin country\n",
        "#y-axis: number of shows rated 8.0 or above\n",
        "\n",
        "#get the data in the form of series (lists) to plot\n",
        "ratings = tmdb[tmdb['vote_average'] >= 8.0]\n",
        "ratings.head()\n"
      ],
      "metadata": {
        "id": "P08DO25bxzu3"
      },
      "execution_count": null,
      "outputs": []
    },
    {
      "cell_type": "code",
      "source": [
        "#get the count of rows for each language\n",
        "ratings_by_language = ratings.groupby('original_language').size().reset_index(name='count')\n",
        "ratings_by_language"
      ],
      "metadata": {
        "id": "uTVUG4vh2n4_"
      },
      "execution_count": null,
      "outputs": []
    },
    {
      "cell_type": "code",
      "source": [
        "#This seems like a lot for a bar chart. Let's look at only the top 5 instead\n",
        "\n",
        "#Sort the values by their count in descending order, then take the first 5\n",
        "top_5_ratings = ratings_by_language.sort_values(by='count', ascending=False).head(5)\n",
        "top_5_ratings"
      ],
      "metadata": {
        "id": "RiFVjv_Q2un3"
      },
      "execution_count": null,
      "outputs": []
    },
    {
      "cell_type": "code",
      "source": [
        "#Lets try plotting it!\n",
        "top_5_ratings.plot.bar()\n"
      ],
      "metadata": {
        "id": "ot8uNZoy3m0m"
      },
      "execution_count": null,
      "outputs": []
    },
    {
      "cell_type": "code",
      "source": [
        "#Uh oh. The x-axis looks weird. What do we do?\n",
        "\n",
        "#set all the labels!\n",
        "ax = top_5_ratings.plot.bar(x='original_language', y='count', legend=None)\n",
        "ax.set_xlabel('Language')  #Set X-axis label\n",
        "ax.set_ylabel('Count')           #Set Y-axis label\n",
        "ax.set_title('Top 5 Languages with Highly Rated (>8.0) Shows')  #Set the plot title\n",
        "\n",
        "plt.show() #show plot"
      ],
      "metadata": {
        "id": "dOIVRVQY31GY"
      },
      "execution_count": null,
      "outputs": []
    }
  ]
}